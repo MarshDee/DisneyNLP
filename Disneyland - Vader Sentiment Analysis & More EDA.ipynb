{
 "cells": [
  {
   "cell_type": "code",
   "execution_count": 1,
   "metadata": {},
   "outputs": [],
   "source": [
    "import pandas as pd"
   ]
  },
  {
   "cell_type": "code",
   "execution_count": 15,
   "metadata": {},
   "outputs": [],
   "source": [
    "df = pd.read_csv(\"data\\Disneyland-all.csv\")"
   ]
  },
  {
   "cell_type": "code",
   "execution_count": 5,
   "metadata": {
    "scrolled": true
   },
   "outputs": [
    {
     "data": {
      "text/html": [
       "<div>\n",
       "<style scoped>\n",
       "    .dataframe tbody tr th:only-of-type {\n",
       "        vertical-align: middle;\n",
       "    }\n",
       "\n",
       "    .dataframe tbody tr th {\n",
       "        vertical-align: top;\n",
       "    }\n",
       "\n",
       "    .dataframe thead th {\n",
       "        text-align: right;\n",
       "    }\n",
       "</style>\n",
       "<table border=\"1\" class=\"dataframe\">\n",
       "  <thead>\n",
       "    <tr style=\"text-align: right;\">\n",
       "      <th></th>\n",
       "      <th>Review_ID</th>\n",
       "      <th>Rating</th>\n",
       "      <th>Year_Month</th>\n",
       "      <th>Reviewer_Location</th>\n",
       "      <th>Review_Text</th>\n",
       "      <th>Branch</th>\n",
       "    </tr>\n",
       "  </thead>\n",
       "  <tbody>\n",
       "    <tr>\n",
       "      <th>0</th>\n",
       "      <td>670772142</td>\n",
       "      <td>4</td>\n",
       "      <td>2019-4</td>\n",
       "      <td>Australia</td>\n",
       "      <td>If you've ever been to Disneyland anywhere you...</td>\n",
       "      <td>Disneyland_HongKong</td>\n",
       "    </tr>\n",
       "    <tr>\n",
       "      <th>1</th>\n",
       "      <td>670682799</td>\n",
       "      <td>4</td>\n",
       "      <td>2019-5</td>\n",
       "      <td>Philippines</td>\n",
       "      <td>Its been a while since d last time we visit HK...</td>\n",
       "      <td>Disneyland_HongKong</td>\n",
       "    </tr>\n",
       "    <tr>\n",
       "      <th>2</th>\n",
       "      <td>670623270</td>\n",
       "      <td>4</td>\n",
       "      <td>2019-4</td>\n",
       "      <td>United Arab Emirates</td>\n",
       "      <td>Thanks God it wasn   t too hot or too humid wh...</td>\n",
       "      <td>Disneyland_HongKong</td>\n",
       "    </tr>\n",
       "    <tr>\n",
       "      <th>3</th>\n",
       "      <td>670607911</td>\n",
       "      <td>4</td>\n",
       "      <td>2019-4</td>\n",
       "      <td>Australia</td>\n",
       "      <td>HK Disneyland is a great compact park. Unfortu...</td>\n",
       "      <td>Disneyland_HongKong</td>\n",
       "    </tr>\n",
       "    <tr>\n",
       "      <th>4</th>\n",
       "      <td>670607296</td>\n",
       "      <td>4</td>\n",
       "      <td>2019-4</td>\n",
       "      <td>United Kingdom</td>\n",
       "      <td>the location is not in the city, took around 1...</td>\n",
       "      <td>Disneyland_HongKong</td>\n",
       "    </tr>\n",
       "    <tr>\n",
       "      <th>...</th>\n",
       "      <td>...</td>\n",
       "      <td>...</td>\n",
       "      <td>...</td>\n",
       "      <td>...</td>\n",
       "      <td>...</td>\n",
       "      <td>...</td>\n",
       "    </tr>\n",
       "    <tr>\n",
       "      <th>42651</th>\n",
       "      <td>1765031</td>\n",
       "      <td>5</td>\n",
       "      <td>missing</td>\n",
       "      <td>United Kingdom</td>\n",
       "      <td>i went to disneyland paris in july 03 and thou...</td>\n",
       "      <td>Disneyland_Paris</td>\n",
       "    </tr>\n",
       "    <tr>\n",
       "      <th>42652</th>\n",
       "      <td>1659553</td>\n",
       "      <td>5</td>\n",
       "      <td>missing</td>\n",
       "      <td>Canada</td>\n",
       "      <td>2 adults and 1 child of 11 visited Disneyland ...</td>\n",
       "      <td>Disneyland_Paris</td>\n",
       "    </tr>\n",
       "    <tr>\n",
       "      <th>42653</th>\n",
       "      <td>1645894</td>\n",
       "      <td>5</td>\n",
       "      <td>missing</td>\n",
       "      <td>South Africa</td>\n",
       "      <td>My eleven year old daughter and myself went to...</td>\n",
       "      <td>Disneyland_Paris</td>\n",
       "    </tr>\n",
       "    <tr>\n",
       "      <th>42654</th>\n",
       "      <td>1618637</td>\n",
       "      <td>4</td>\n",
       "      <td>missing</td>\n",
       "      <td>United States</td>\n",
       "      <td>This hotel, part of the Disneyland Paris compl...</td>\n",
       "      <td>Disneyland_Paris</td>\n",
       "    </tr>\n",
       "    <tr>\n",
       "      <th>42655</th>\n",
       "      <td>1536786</td>\n",
       "      <td>4</td>\n",
       "      <td>missing</td>\n",
       "      <td>United Kingdom</td>\n",
       "      <td>I went to the Disneyparis resort, in 1996, wit...</td>\n",
       "      <td>Disneyland_Paris</td>\n",
       "    </tr>\n",
       "  </tbody>\n",
       "</table>\n",
       "<p>42656 rows × 6 columns</p>\n",
       "</div>"
      ],
      "text/plain": [
       "       Review_ID  Rating Year_Month     Reviewer_Location  \\\n",
       "0      670772142       4     2019-4             Australia   \n",
       "1      670682799       4     2019-5           Philippines   \n",
       "2      670623270       4     2019-4  United Arab Emirates   \n",
       "3      670607911       4     2019-4             Australia   \n",
       "4      670607296       4     2019-4        United Kingdom   \n",
       "...          ...     ...        ...                   ...   \n",
       "42651    1765031       5    missing        United Kingdom   \n",
       "42652    1659553       5    missing                Canada   \n",
       "42653    1645894       5    missing          South Africa   \n",
       "42654    1618637       4    missing         United States   \n",
       "42655    1536786       4    missing        United Kingdom   \n",
       "\n",
       "                                             Review_Text               Branch  \n",
       "0      If you've ever been to Disneyland anywhere you...  Disneyland_HongKong  \n",
       "1      Its been a while since d last time we visit HK...  Disneyland_HongKong  \n",
       "2      Thanks God it wasn   t too hot or too humid wh...  Disneyland_HongKong  \n",
       "3      HK Disneyland is a great compact park. Unfortu...  Disneyland_HongKong  \n",
       "4      the location is not in the city, took around 1...  Disneyland_HongKong  \n",
       "...                                                  ...                  ...  \n",
       "42651  i went to disneyland paris in july 03 and thou...     Disneyland_Paris  \n",
       "42652  2 adults and 1 child of 11 visited Disneyland ...     Disneyland_Paris  \n",
       "42653  My eleven year old daughter and myself went to...     Disneyland_Paris  \n",
       "42654  This hotel, part of the Disneyland Paris compl...     Disneyland_Paris  \n",
       "42655  I went to the Disneyparis resort, in 1996, wit...     Disneyland_Paris  \n",
       "\n",
       "[42656 rows x 6 columns]"
      ]
     },
     "execution_count": 5,
     "metadata": {},
     "output_type": "execute_result"
    }
   ],
   "source": [
    "df"
   ]
  },
  {
   "cell_type": "code",
   "execution_count": 4,
   "metadata": {},
   "outputs": [
    {
     "name": "stdout",
     "output_type": "stream",
     "text": [
      "<class 'pandas.core.frame.DataFrame'>\n",
      "RangeIndex: 42656 entries, 0 to 42655\n",
      "Data columns (total 6 columns):\n",
      " #   Column             Non-Null Count  Dtype \n",
      "---  ------             --------------  ----- \n",
      " 0   Review_ID          42656 non-null  int64 \n",
      " 1   Rating             42656 non-null  int64 \n",
      " 2   Year_Month         42656 non-null  object\n",
      " 3   Reviewer_Location  42656 non-null  object\n",
      " 4   Review_Text        42656 non-null  object\n",
      " 5   Branch             42656 non-null  object\n",
      "dtypes: int64(2), object(4)\n",
      "memory usage: 2.0+ MB\n"
     ]
    }
   ],
   "source": [
    "df.info()"
   ]
  },
  {
   "cell_type": "markdown",
   "metadata": {},
   "source": [
    "## Sentiment Analysis"
   ]
  },
  {
   "cell_type": "markdown",
   "metadata": {},
   "source": [
    "### TextBlob"
   ]
  },
  {
   "cell_type": "code",
   "execution_count": 16,
   "metadata": {},
   "outputs": [],
   "source": [
    "from textblob import TextBlob"
   ]
  },
  {
   "cell_type": "code",
   "execution_count": 17,
   "metadata": {},
   "outputs": [],
   "source": [
    "polarity = []\n",
    "\n",
    "for sentence in df[\"Review_Text\"]:\n",
    "    polarity.append(TextBlob(sentence).polarity)"
   ]
  },
  {
   "cell_type": "code",
   "execution_count": 18,
   "metadata": {},
   "outputs": [],
   "source": [
    "subjectivity = []\n",
    "\n",
    "for sentence in df[\"Review_Text\"]:\n",
    "    subjectivity.append(TextBlob(sentence).subjectivity)"
   ]
  },
  {
   "cell_type": "code",
   "execution_count": 19,
   "metadata": {},
   "outputs": [],
   "source": [
    "df[\"textblob_polarity\"], df[\"textblob_subjectivity\"] = polarity, subjectivity"
   ]
  },
  {
   "cell_type": "code",
   "execution_count": 20,
   "metadata": {},
   "outputs": [
    {
     "data": {
      "text/html": [
       "<div>\n",
       "<style scoped>\n",
       "    .dataframe tbody tr th:only-of-type {\n",
       "        vertical-align: middle;\n",
       "    }\n",
       "\n",
       "    .dataframe tbody tr th {\n",
       "        vertical-align: top;\n",
       "    }\n",
       "\n",
       "    .dataframe thead th {\n",
       "        text-align: right;\n",
       "    }\n",
       "</style>\n",
       "<table border=\"1\" class=\"dataframe\">\n",
       "  <thead>\n",
       "    <tr style=\"text-align: right;\">\n",
       "      <th></th>\n",
       "      <th>Review_ID</th>\n",
       "      <th>Rating</th>\n",
       "      <th>Year_Month</th>\n",
       "      <th>Reviewer_Location</th>\n",
       "      <th>Review_Text</th>\n",
       "      <th>Branch</th>\n",
       "      <th>textblob_polarity</th>\n",
       "      <th>textblob_subjectivity</th>\n",
       "    </tr>\n",
       "  </thead>\n",
       "  <tbody>\n",
       "    <tr>\n",
       "      <th>0</th>\n",
       "      <td>670772142</td>\n",
       "      <td>4</td>\n",
       "      <td>2019-4</td>\n",
       "      <td>Australia</td>\n",
       "      <td>If you've ever been to Disneyland anywhere you...</td>\n",
       "      <td>Disneyland_HongKong</td>\n",
       "      <td>0.243981</td>\n",
       "      <td>0.561481</td>\n",
       "    </tr>\n",
       "    <tr>\n",
       "      <th>1</th>\n",
       "      <td>670682799</td>\n",
       "      <td>4</td>\n",
       "      <td>2019-5</td>\n",
       "      <td>Philippines</td>\n",
       "      <td>Its been a while since d last time we visit HK...</td>\n",
       "      <td>Disneyland_HongKong</td>\n",
       "      <td>0.236131</td>\n",
       "      <td>0.434649</td>\n",
       "    </tr>\n",
       "    <tr>\n",
       "      <th>2</th>\n",
       "      <td>670623270</td>\n",
       "      <td>4</td>\n",
       "      <td>2019-4</td>\n",
       "      <td>United Arab Emirates</td>\n",
       "      <td>Thanks God it wasn   t too hot or too humid wh...</td>\n",
       "      <td>Disneyland_HongKong</td>\n",
       "      <td>0.160498</td>\n",
       "      <td>0.422944</td>\n",
       "    </tr>\n",
       "    <tr>\n",
       "      <th>3</th>\n",
       "      <td>670607911</td>\n",
       "      <td>4</td>\n",
       "      <td>2019-4</td>\n",
       "      <td>Australia</td>\n",
       "      <td>HK Disneyland is a great compact park. Unfortu...</td>\n",
       "      <td>Disneyland_HongKong</td>\n",
       "      <td>0.189286</td>\n",
       "      <td>0.512143</td>\n",
       "    </tr>\n",
       "    <tr>\n",
       "      <th>4</th>\n",
       "      <td>670607296</td>\n",
       "      <td>4</td>\n",
       "      <td>2019-4</td>\n",
       "      <td>United Kingdom</td>\n",
       "      <td>the location is not in the city, took around 1...</td>\n",
       "      <td>Disneyland_HongKong</td>\n",
       "      <td>0.266667</td>\n",
       "      <td>0.437500</td>\n",
       "    </tr>\n",
       "    <tr>\n",
       "      <th>...</th>\n",
       "      <td>...</td>\n",
       "      <td>...</td>\n",
       "      <td>...</td>\n",
       "      <td>...</td>\n",
       "      <td>...</td>\n",
       "      <td>...</td>\n",
       "      <td>...</td>\n",
       "      <td>...</td>\n",
       "    </tr>\n",
       "    <tr>\n",
       "      <th>42651</th>\n",
       "      <td>1765031</td>\n",
       "      <td>5</td>\n",
       "      <td>missing</td>\n",
       "      <td>United Kingdom</td>\n",
       "      <td>i went to disneyland paris in july 03 and thou...</td>\n",
       "      <td>Disneyland_Paris</td>\n",
       "      <td>0.252273</td>\n",
       "      <td>0.570682</td>\n",
       "    </tr>\n",
       "    <tr>\n",
       "      <th>42652</th>\n",
       "      <td>1659553</td>\n",
       "      <td>5</td>\n",
       "      <td>missing</td>\n",
       "      <td>Canada</td>\n",
       "      <td>2 adults and 1 child of 11 visited Disneyland ...</td>\n",
       "      <td>Disneyland_Paris</td>\n",
       "      <td>0.179250</td>\n",
       "      <td>0.620750</td>\n",
       "    </tr>\n",
       "    <tr>\n",
       "      <th>42653</th>\n",
       "      <td>1645894</td>\n",
       "      <td>5</td>\n",
       "      <td>missing</td>\n",
       "      <td>South Africa</td>\n",
       "      <td>My eleven year old daughter and myself went to...</td>\n",
       "      <td>Disneyland_Paris</td>\n",
       "      <td>0.153205</td>\n",
       "      <td>0.459615</td>\n",
       "    </tr>\n",
       "    <tr>\n",
       "      <th>42654</th>\n",
       "      <td>1618637</td>\n",
       "      <td>4</td>\n",
       "      <td>missing</td>\n",
       "      <td>United States</td>\n",
       "      <td>This hotel, part of the Disneyland Paris compl...</td>\n",
       "      <td>Disneyland_Paris</td>\n",
       "      <td>0.265327</td>\n",
       "      <td>0.559821</td>\n",
       "    </tr>\n",
       "    <tr>\n",
       "      <th>42655</th>\n",
       "      <td>1536786</td>\n",
       "      <td>4</td>\n",
       "      <td>missing</td>\n",
       "      <td>United Kingdom</td>\n",
       "      <td>I went to the Disneyparis resort, in 1996, wit...</td>\n",
       "      <td>Disneyland_Paris</td>\n",
       "      <td>0.254881</td>\n",
       "      <td>0.515238</td>\n",
       "    </tr>\n",
       "  </tbody>\n",
       "</table>\n",
       "<p>42656 rows × 8 columns</p>\n",
       "</div>"
      ],
      "text/plain": [
       "       Review_ID  Rating Year_Month     Reviewer_Location  \\\n",
       "0      670772142       4     2019-4             Australia   \n",
       "1      670682799       4     2019-5           Philippines   \n",
       "2      670623270       4     2019-4  United Arab Emirates   \n",
       "3      670607911       4     2019-4             Australia   \n",
       "4      670607296       4     2019-4        United Kingdom   \n",
       "...          ...     ...        ...                   ...   \n",
       "42651    1765031       5    missing        United Kingdom   \n",
       "42652    1659553       5    missing                Canada   \n",
       "42653    1645894       5    missing          South Africa   \n",
       "42654    1618637       4    missing         United States   \n",
       "42655    1536786       4    missing        United Kingdom   \n",
       "\n",
       "                                             Review_Text               Branch  \\\n",
       "0      If you've ever been to Disneyland anywhere you...  Disneyland_HongKong   \n",
       "1      Its been a while since d last time we visit HK...  Disneyland_HongKong   \n",
       "2      Thanks God it wasn   t too hot or too humid wh...  Disneyland_HongKong   \n",
       "3      HK Disneyland is a great compact park. Unfortu...  Disneyland_HongKong   \n",
       "4      the location is not in the city, took around 1...  Disneyland_HongKong   \n",
       "...                                                  ...                  ...   \n",
       "42651  i went to disneyland paris in july 03 and thou...     Disneyland_Paris   \n",
       "42652  2 adults and 1 child of 11 visited Disneyland ...     Disneyland_Paris   \n",
       "42653  My eleven year old daughter and myself went to...     Disneyland_Paris   \n",
       "42654  This hotel, part of the Disneyland Paris compl...     Disneyland_Paris   \n",
       "42655  I went to the Disneyparis resort, in 1996, wit...     Disneyland_Paris   \n",
       "\n",
       "       textblob_polarity  textblob_subjectivity  \n",
       "0               0.243981               0.561481  \n",
       "1               0.236131               0.434649  \n",
       "2               0.160498               0.422944  \n",
       "3               0.189286               0.512143  \n",
       "4               0.266667               0.437500  \n",
       "...                  ...                    ...  \n",
       "42651           0.252273               0.570682  \n",
       "42652           0.179250               0.620750  \n",
       "42653           0.153205               0.459615  \n",
       "42654           0.265327               0.559821  \n",
       "42655           0.254881               0.515238  \n",
       "\n",
       "[42656 rows x 8 columns]"
      ]
     },
     "execution_count": 20,
     "metadata": {},
     "output_type": "execute_result"
    }
   ],
   "source": [
    "df"
   ]
  },
  {
   "cell_type": "code",
   "execution_count": 21,
   "metadata": {},
   "outputs": [
    {
     "data": {
      "text/plain": [
       "<AxesSubplot:ylabel='Frequency'>"
      ]
     },
     "execution_count": 21,
     "metadata": {},
     "output_type": "execute_result"
    },
    {
     "data": {
      "image/png": "[encoded data removed]",
      "text/plain": [
       "<Figure size 432x288 with 1 Axes>"
      ]
     },
     "metadata": {
      "needs_background": "light"
     },
     "output_type": "display_data"
    }
   ],
   "source": [
    "df[\"textblob_polarity\"].plot.hist()"
   ]
  },
  {
   "cell_type": "code",
   "execution_count": 22,
   "metadata": {
    "scrolled": true
   },
   "outputs": [
    {
     "data": {
      "text/plain": [
       "<AxesSubplot:ylabel='Frequency'>"
      ]
     },
     "execution_count": 22,
     "metadata": {},
     "output_type": "execute_result"
    },
    {
     "data": {
      "image/png": "[encoded data removed]",
      "text/plain": [
       "<Figure size 432x288 with 1 Axes>"
      ]
     },
     "metadata": {
      "needs_background": "light"
     },
     "output_type": "display_data"
    }
   ],
   "source": [
    "df[\"textblob_subjectivity\"].plot.hist()"
   ]
  },
  {
   "cell_type": "code",
   "execution_count": 23,
   "metadata": {},
   "outputs": [],
   "source": [
    "df['tb_Sentiment_Type'] = ''\n",
    "df.loc[df[\"textblob_polarity\"]>0,'tb_Sentiment_Type']='POSITIVE'\n",
    "df.loc[df[\"textblob_polarity\"]==0,'tb_Sentiment_Type']='NEUTRAL'\n",
    "df.loc[df[\"textblob_polarity\"]<0,'tb_Sentiment_Type']='NEGATIVE'"
   ]
  },
  {
   "cell_type": "code",
   "execution_count": 24,
   "metadata": {},
   "outputs": [
    {
     "data": {
      "text/plain": [
       "<AxesSubplot:>"
      ]
     },
     "execution_count": 24,
     "metadata": {},
     "output_type": "execute_result"
    },
    {
     "data": {
      "image/png": "[encoded data removed]",
      "text/plain": [
       "<Figure size 432x288 with 1 Axes>"
      ]
     },
     "metadata": {
      "needs_background": "light"
     },
     "output_type": "display_data"
    }
   ],
   "source": [
    "df['tb_Sentiment_Type'].value_counts().plot.bar()"
   ]
  },
  {
   "cell_type": "markdown",
   "metadata": {},
   "source": [
    "### Vader"
   ]
  },
  {
   "cell_type": "code",
   "execution_count": 25,
   "metadata": {},
   "outputs": [],
   "source": [
    "from vaderSentiment.vaderSentiment import SentimentIntensityAnalyzer\n",
    "analyzer = SentimentIntensityAnalyzer()"
   ]
  },
  {
   "cell_type": "code",
   "execution_count": 26,
   "metadata": {},
   "outputs": [],
   "source": [
    "vs = []\n",
    "\n",
    "for sentence in df[\"Review_Text\"]:\n",
    "    vs.append(analyzer.polarity_scores(sentence))"
   ]
  },
  {
   "cell_type": "code",
   "execution_count": 27,
   "metadata": {},
   "outputs": [],
   "source": [
    "df[\"vs_score\"] = vs"
   ]
  },
  {
   "cell_type": "code",
   "execution_count": 28,
   "metadata": {},
   "outputs": [],
   "source": [
    "df['compound'] = df['vs_score'].apply(lambda score_dict: score_dict['compound'])\n",
    "df['vs_sentiment_type']=''\n",
    "df.loc[df.compound>0,'vs_sentiment_type']='POSITIVE'\n",
    "df.loc[df.compound==0,'vs_sentiment_type']='NEUTRAL'\n",
    "df.loc[df.compound<0,'vs_sentiment_type']='NEGATIVE'"
   ]
  },
  {
   "cell_type": "code",
   "execution_count": 29,
   "metadata": {},
   "outputs": [
    {
     "data": {
      "text/html": [
       "<div>\n",
       "<style scoped>\n",
       "    .dataframe tbody tr th:only-of-type {\n",
       "        vertical-align: middle;\n",
       "    }\n",
       "\n",
       "    .dataframe tbody tr th {\n",
       "        vertical-align: top;\n",
       "    }\n",
       "\n",
       "    .dataframe thead th {\n",
       "        text-align: right;\n",
       "    }\n",
       "</style>\n",
       "<table border=\"1\" class=\"dataframe\">\n",
       "  <thead>\n",
       "    <tr style=\"text-align: right;\">\n",
       "      <th></th>\n",
       "      <th>Review_ID</th>\n",
       "      <th>Rating</th>\n",
       "      <th>Year_Month</th>\n",
       "      <th>Reviewer_Location</th>\n",
       "      <th>Review_Text</th>\n",
       "      <th>Branch</th>\n",
       "      <th>textblob_polarity</th>\n",
       "      <th>textblob_subjectivity</th>\n",
       "      <th>tb_Sentiment_Type</th>\n",
       "      <th>vs_score</th>\n",
       "      <th>compound</th>\n",
       "      <th>vs_sentiment_type</th>\n",
       "    </tr>\n",
       "  </thead>\n",
       "  <tbody>\n",
       "    <tr>\n",
       "      <th>0</th>\n",
       "      <td>670772142</td>\n",
       "      <td>4</td>\n",
       "      <td>2019-4</td>\n",
       "      <td>Australia</td>\n",
       "      <td>If you've ever been to Disneyland anywhere you...</td>\n",
       "      <td>Disneyland_HongKong</td>\n",
       "      <td>0.243981</td>\n",
       "      <td>0.561481</td>\n",
       "      <td>POSITIVE</td>\n",
       "      <td>{'neg': 0.0, 'neu': 0.891, 'pos': 0.109, 'comp...</td>\n",
       "      <td>0.7069</td>\n",
       "      <td>POSITIVE</td>\n",
       "    </tr>\n",
       "    <tr>\n",
       "      <th>1</th>\n",
       "      <td>670682799</td>\n",
       "      <td>4</td>\n",
       "      <td>2019-5</td>\n",
       "      <td>Philippines</td>\n",
       "      <td>Its been a while since d last time we visit HK...</td>\n",
       "      <td>Disneyland_HongKong</td>\n",
       "      <td>0.236131</td>\n",
       "      <td>0.434649</td>\n",
       "      <td>POSITIVE</td>\n",
       "      <td>{'neg': 0.044, 'neu': 0.76, 'pos': 0.195, 'com...</td>\n",
       "      <td>0.9853</td>\n",
       "      <td>POSITIVE</td>\n",
       "    </tr>\n",
       "    <tr>\n",
       "      <th>2</th>\n",
       "      <td>670623270</td>\n",
       "      <td>4</td>\n",
       "      <td>2019-4</td>\n",
       "      <td>United Arab Emirates</td>\n",
       "      <td>Thanks God it wasn   t too hot or too humid wh...</td>\n",
       "      <td>Disneyland_HongKong</td>\n",
       "      <td>0.160498</td>\n",
       "      <td>0.422944</td>\n",
       "      <td>POSITIVE</td>\n",
       "      <td>{'neg': 0.022, 'neu': 0.758, 'pos': 0.22, 'com...</td>\n",
       "      <td>0.9920</td>\n",
       "      <td>POSITIVE</td>\n",
       "    </tr>\n",
       "    <tr>\n",
       "      <th>3</th>\n",
       "      <td>670607911</td>\n",
       "      <td>4</td>\n",
       "      <td>2019-4</td>\n",
       "      <td>Australia</td>\n",
       "      <td>HK Disneyland is a great compact park. Unfortu...</td>\n",
       "      <td>Disneyland_HongKong</td>\n",
       "      <td>0.189286</td>\n",
       "      <td>0.512143</td>\n",
       "      <td>POSITIVE</td>\n",
       "      <td>{'neg': 0.078, 'neu': 0.768, 'pos': 0.154, 'co...</td>\n",
       "      <td>0.8425</td>\n",
       "      <td>POSITIVE</td>\n",
       "    </tr>\n",
       "    <tr>\n",
       "      <th>4</th>\n",
       "      <td>670607296</td>\n",
       "      <td>4</td>\n",
       "      <td>2019-4</td>\n",
       "      <td>United Kingdom</td>\n",
       "      <td>the location is not in the city, took around 1...</td>\n",
       "      <td>Disneyland_HongKong</td>\n",
       "      <td>0.266667</td>\n",
       "      <td>0.437500</td>\n",
       "      <td>POSITIVE</td>\n",
       "      <td>{'neg': 0.0, 'neu': 0.902, 'pos': 0.098, 'comp...</td>\n",
       "      <td>0.2846</td>\n",
       "      <td>POSITIVE</td>\n",
       "    </tr>\n",
       "  </tbody>\n",
       "</table>\n",
       "</div>"
      ],
      "text/plain": [
       "   Review_ID  Rating Year_Month     Reviewer_Location  \\\n",
       "0  670772142       4     2019-4             Australia   \n",
       "1  670682799       4     2019-5           Philippines   \n",
       "2  670623270       4     2019-4  United Arab Emirates   \n",
       "3  670607911       4     2019-4             Australia   \n",
       "4  670607296       4     2019-4        United Kingdom   \n",
       "\n",
       "                                         Review_Text               Branch  \\\n",
       "0  If you've ever been to Disneyland anywhere you...  Disneyland_HongKong   \n",
       "1  Its been a while since d last time we visit HK...  Disneyland_HongKong   \n",
       "2  Thanks God it wasn   t too hot or too humid wh...  Disneyland_HongKong   \n",
       "3  HK Disneyland is a great compact park. Unfortu...  Disneyland_HongKong   \n",
       "4  the location is not in the city, took around 1...  Disneyland_HongKong   \n",
       "\n",
       "   textblob_polarity  textblob_subjectivity tb_Sentiment_Type  \\\n",
       "0           0.243981               0.561481          POSITIVE   \n",
       "1           0.236131               0.434649          POSITIVE   \n",
       "2           0.160498               0.422944          POSITIVE   \n",
       "3           0.189286               0.512143          POSITIVE   \n",
       "4           0.266667               0.437500          POSITIVE   \n",
       "\n",
       "                                            vs_score  compound  \\\n",
       "0  {'neg': 0.0, 'neu': 0.891, 'pos': 0.109, 'comp...    0.7069   \n",
       "1  {'neg': 0.044, 'neu': 0.76, 'pos': 0.195, 'com...    0.9853   \n",
       "2  {'neg': 0.022, 'neu': 0.758, 'pos': 0.22, 'com...    0.9920   \n",
       "3  {'neg': 0.078, 'neu': 0.768, 'pos': 0.154, 'co...    0.8425   \n",
       "4  {'neg': 0.0, 'neu': 0.902, 'pos': 0.098, 'comp...    0.2846   \n",
       "\n",
       "  vs_sentiment_type  \n",
       "0          POSITIVE  \n",
       "1          POSITIVE  \n",
       "2          POSITIVE  \n",
       "3          POSITIVE  \n",
       "4          POSITIVE  "
      ]
     },
     "execution_count": 29,
     "metadata": {},
     "output_type": "execute_result"
    }
   ],
   "source": [
    "df.head()"
   ]
  },
  {
   "cell_type": "code",
   "execution_count": 30,
   "metadata": {},
   "outputs": [
    {
     "data": {
      "text/plain": [
       "<AxesSubplot:>"
      ]
     },
     "execution_count": 30,
     "metadata": {},
     "output_type": "execute_result"
    },
    {
     "data": {
      "image/png": "[encoded data removed]",
      "text/plain": [
       "<Figure size 432x288 with 1 Axes>"
      ]
     },
     "metadata": {
      "needs_background": "light"
     },
     "output_type": "display_data"
    }
   ],
   "source": [
    "df['vs_sentiment_type'].value_counts().plot.bar()"
   ]
  },
  {
   "cell_type": "markdown",
   "metadata": {},
   "source": [
    "Next: classification model?"
   ]
  },
  {
   "cell_type": "markdown",
   "metadata": {},
   "source": [
    "### NLTK"
   ]
  },
  {
   "cell_type": "code",
   "execution_count": 31,
   "metadata": {},
   "outputs": [],
   "source": [
    "import nltk\n",
    "from nltk import FreqDist\n",
    "from nltk.tokenize import RegexpTokenizer\n",
    "from nltk.corpus import state_union"
   ]
  },
  {
   "cell_type": "markdown",
   "metadata": {},
   "source": [
    "#### Frequent words"
   ]
  },
  {
   "cell_type": "code",
   "execution_count": 32,
   "metadata": {},
   "outputs": [],
   "source": [
    "stopwords = nltk.corpus.stopwords.words(\"english\")"
   ]
  },
  {
   "cell_type": "code",
   "execution_count": 33,
   "metadata": {
    "scrolled": true
   },
   "outputs": [
    {
     "name": "stdout",
     "output_type": "stream",
     "text": [
      "There are 29766104 words in the combination of all review.\n"
     ]
    }
   ],
   "source": [
    "text = \" \".join(review for review in df[\"Review_Text\"])\n",
    "print (\"There are {} words in the combination of all review.\".format(len(text)))"
   ]
  },
  {
   "cell_type": "code",
   "execution_count": 34,
   "metadata": {},
   "outputs": [
    {
     "data": {
      "image/png": "[encoded data removed]",
      "text/plain": [
       "<Figure size 432x288 with 1 Axes>"
      ]
     },
     "metadata": {
      "needs_background": "light"
     },
     "output_type": "display_data"
    },
    {
     "data": {
      "text/plain": [
       "<AxesSubplot:xlabel='Samples', ylabel='Counts'>"
      ]
     },
     "execution_count": 34,
     "metadata": {},
     "output_type": "execute_result"
    }
   ],
   "source": [
    "tokenizer = RegexpTokenizer(r'\\w+')\n",
    "tokens = tokenizer.tokenize(text)\n",
    "freq = FreqDist(tokens)\n",
    "freq.plot(20)"
   ]
  },
  {
   "cell_type": "code",
   "execution_count": 35,
   "metadata": {
    "scrolled": true
   },
   "outputs": [
    {
     "data": {
      "image/png": "[encoded data removed]",
      "text/plain": [
       "<Figure size 432x288 with 1 Axes>"
      ]
     },
     "metadata": {
      "needs_background": "light"
     },
     "output_type": "display_data"
    },
    {
     "data": {
      "text/plain": [
       "<AxesSubplot:xlabel='Samples', ylabel='Counts'>"
      ]
     },
     "execution_count": 35,
     "metadata": {},
     "output_type": "execute_result"
    }
   ],
   "source": [
    "words = [w for w in tokens if w.lower() not in stopwords] # excluding stopwords\n",
    "freq = FreqDist(words)\n",
    "freq.plot(20)"
   ]
  },
  {
   "cell_type": "code",
   "execution_count": 36,
   "metadata": {
    "scrolled": true
   },
   "outputs": [
    {
     "name": "stdout",
     "output_type": "stream",
     "text": [
      "      park      rides     Disney Disneyland       time        day        get         go        one       ride \n",
      "     40725      34179      33603      31245      29726      28219      22095      19314      17768      17549 \n"
     ]
    }
   ],
   "source": [
    "freq.tabulate(10) # the most frequent 10 words"
   ]
  },
  {
   "cell_type": "markdown",
   "metadata": {},
   "source": [
    "#### Concordance & Collocations"
   ]
  },
  {
   "cell_type": "markdown",
   "metadata": {},
   "source": [
    "In the context of NLP, a concordance is a collection of word locations along with their context. \n",
    "You can use concordances to find:\n",
    "\n",
    "How many times a word appears?\n",
    "\n",
    "Where each occurrence appears?\n",
    "\n",
    "What words surround each occurrence?"
   ]
  },
  {
   "cell_type": "code",
   "execution_count": 75,
   "metadata": {
    "scrolled": true
   },
   "outputs": [
    {
     "name": "stdout",
     "output_type": "stream",
     "text": [
      "Displaying 10 of 45346 matches:\n",
      " Disney brand Seems local like Ocean Park even worst got SMILING face wanna u \n",
      "nts Last also Starbucks inside theme park Thanks God hot humid visiting park o\n",
      "e park Thanks God hot humid visiting park otherwise would big issue lot shade \n",
      "nderwhelmed choice rides attractions park quite small really expecting somethi\n",
      " enjoyed HK Disneyland great compact park Unfortunately quite bit maintenance \n",
      " expensive Disneyland well Basically park good small children people never Dis\n",
      "mid week biggest disappointment food Park Even Maxim decent Restaurant Main St\n",
      "king could find map place priced fun park Disney characters 2 seen cabana phot\n",
      "nd day went early went straight back park lineups children got go many rides t\n",
      "s general food drink expensive small park easily done 1 day huge enough visit \n"
     ]
    }
   ],
   "source": [
    "text2 = nltk.Text(words)\n",
    "text2.concordance(\"park\", lines=10)\n",
    "# concordance_list = text2.concordance_list(\"park\", lines=10)\n",
    "# for entry in concordance_list:\n",
    "#     print(entry.line)"
   ]
  },
  {
   "cell_type": "markdown",
   "metadata": {},
   "source": [
    "Collocations are series of words that frequently appear together in a given text. \n",
    "\n",
    "In the State of the Union corpus, for example, you’d expect to find the words United and States appearing next to each other very often. Those two words appearing together is a collocation."
   ]
  },
  {
   "cell_type": "code",
   "execution_count": 84,
   "metadata": {},
   "outputs": [
    {
     "data": {
      "text/plain": [
       "[(('happiest', 'place', 'earth'), 1010),\n",
       " (('Hong', 'Kong', 'Disneyland'), 910),\n",
       " (('Big', 'Thunder', 'Mountain'), 752),\n",
       " (('year', 'old', 'daughter'), 459),\n",
       " (('4', 'year', 'old'), 449),\n",
       " (('get', 'fast', 'pass'), 434),\n",
       " (('fast', 'pass', 'system'), 431),\n",
       " (('Walt', 'Disney', 'World'), 418),\n",
       " (('Disneyland', 'California', 'Adventure'), 411),\n",
       " (('day', 'park', 'hopper'), 402)]"
      ]
     },
     "execution_count": 84,
     "metadata": {},
     "output_type": "execute_result"
    }
   ],
   "source": [
    "finder = nltk.collocations.TrigramCollocationFinder.from_words(text2)\n",
    "finder.ngram_fd.most_common(10)\n",
    "#finder.ngram_fd.tabulate(2)"
   ]
  },
  {
   "cell_type": "markdown",
   "metadata": {},
   "source": [
    "#### NLTK Sentiment Analyzer"
   ]
  },
  {
   "cell_type": "code",
   "execution_count": 39,
   "metadata": {},
   "outputs": [
    {
     "name": "stderr",
     "output_type": "stream",
     "text": [
      "[nltk_data] Downloading package vader_lexicon to\n",
      "[nltk_data]     C:\\Users\\Marielle\\AppData\\Roaming\\nltk_data...\n"
     ]
    }
   ],
   "source": [
    "import nltk\n",
    "nltk.download('vader_lexicon')\n",
    "from nltk.sentiment import SentimentIntensityAnalyzer"
   ]
  },
  {
   "cell_type": "code",
   "execution_count": 40,
   "metadata": {},
   "outputs": [],
   "source": [
    "sia = SentimentIntensityAnalyzer() # based on vader lexicon"
   ]
  },
  {
   "cell_type": "code",
   "execution_count": 41,
   "metadata": {},
   "outputs": [],
   "source": [
    "nltk_score = []\n",
    "\n",
    "for review in df[\"Review_Text\"]:\n",
    "    nltk_score.append(sia.polarity_scores(review))"
   ]
  },
  {
   "cell_type": "code",
   "execution_count": 42,
   "metadata": {},
   "outputs": [],
   "source": [
    "df[\"nltk_score\"] = nltk_score"
   ]
  },
  {
   "cell_type": "code",
   "execution_count": 43,
   "metadata": {},
   "outputs": [],
   "source": [
    "df['nltk_compound'] = df['nltk_score'].apply(lambda score_dict: score_dict['compound'])\n",
    "df['nltk_sentiment_type']=''\n",
    "df.loc[df.nltk_compound>0,'nltk_sentiment_type']='POSITIVE'\n",
    "df.loc[df.nltk_compound==0,'nltk_sentiment_type']='NEUTRAL'\n",
    "df.loc[df.nltk_compound<0,'nltk_sentiment_type']='NEGATIVE'"
   ]
  },
  {
   "cell_type": "code",
   "execution_count": 44,
   "metadata": {
    "scrolled": true
   },
   "outputs": [
    {
     "data": {
      "text/plain": [
       "<AxesSubplot:>"
      ]
     },
     "execution_count": 44,
     "metadata": {},
     "output_type": "execute_result"
    },
    {
     "data": {
      "image/png": "[encoded data removed]",
      "text/plain": [
       "<Figure size 432x288 with 1 Axes>"
      ]
     },
     "metadata": {
      "needs_background": "light"
     },
     "output_type": "display_data"
    }
   ],
   "source": [
    "df['nltk_sentiment_type'].value_counts().plot.bar()"
   ]
  },
  {
   "cell_type": "code",
   "execution_count": 45,
   "metadata": {},
   "outputs": [
    {
     "data": {
      "text/plain": [
       "[('park', 4221),\n",
       " ('Disney', 3687),\n",
       " ('rides', 3584),\n",
       " ('Disneyland', 2781),\n",
       " ('day', 2484),\n",
       " ('time', 2444),\n",
       " ('get', 2314),\n",
       " ('ride', 1971),\n",
       " ('one', 1957),\n",
       " ('go', 1896)]"
      ]
     },
     "execution_count": 45,
     "metadata": {},
     "output_type": "execute_result"
    }
   ],
   "source": [
    "# Negative review frequent word list:\n",
    "neg_review = df[df['nltk_sentiment_type']=='NEGATIVE'][\"Review_Text\"]\n",
    "\n",
    "neg_text = \" \".join(review for review in neg_review)\n",
    "neg_tokens = tokenizer.tokenize(neg_text)\n",
    "neg_words = [w for w in neg_tokens if w.lower() not in stopwords] # excluding stopwords\n",
    "\n",
    "freq = FreqDist(neg_words)\n",
    "freq.most_common(10)"
   ]
  },
  {
   "cell_type": "markdown",
   "metadata": {},
   "source": [
    "Next step: analyze the Concordance & Collocations of the negative reviews to identify problems that bothers tourists most?"
   ]
  },
  {
   "cell_type": "markdown",
   "metadata": {},
   "source": [
    "## More EDA"
   ]
  },
  {
   "cell_type": "code",
   "execution_count": 49,
   "metadata": {},
   "outputs": [],
   "source": [
    "import numpy as np \n",
    "import pandas as pd \n",
    "import os\n",
    "import matplotlib.pyplot as plt\n",
    "plt.style.use('ggplot')\n",
    "import seaborn as sns\n",
    "import plotly.express as px\n",
    "import plotly.graph_objects as go\n",
    "from wordcloud import WordCloud, STOPWORDS , ImageColorGenerator\n",
    "import re\n",
    "from PIL import Image\n",
    "from spacy import displacy\n",
    "from collections import Counter\n",
    "import spacy\n",
    "import en_core_web_lg\n",
    "# !python -m spacy download en_core_web_lg\n",
    "# !python -m spacy download en\n"
   ]
  },
  {
   "cell_type": "code",
   "execution_count": 78,
   "metadata": {
    "scrolled": false
   },
   "outputs": [
    {
     "data": {
      "text/html": [
       "<div>\n",
       "<style scoped>\n",
       "    .dataframe tbody tr th:only-of-type {\n",
       "        vertical-align: middle;\n",
       "    }\n",
       "\n",
       "    .dataframe tbody tr th {\n",
       "        vertical-align: top;\n",
       "    }\n",
       "\n",
       "    .dataframe thead th {\n",
       "        text-align: right;\n",
       "    }\n",
       "</style>\n",
       "<table border=\"1\" class=\"dataframe\">\n",
       "  <thead>\n",
       "    <tr style=\"text-align: right;\">\n",
       "      <th></th>\n",
       "      <th>Review_ID</th>\n",
       "      <th>Rating</th>\n",
       "      <th>Year_Month</th>\n",
       "      <th>Reviewer_Location</th>\n",
       "      <th>Review_Text</th>\n",
       "      <th>Branch</th>\n",
       "      <th>vs_score</th>\n",
       "      <th>compound</th>\n",
       "      <th>vs_sentiment_type</th>\n",
       "    </tr>\n",
       "  </thead>\n",
       "  <tbody>\n",
       "    <tr>\n",
       "      <th>0</th>\n",
       "      <td>670772142</td>\n",
       "      <td>4</td>\n",
       "      <td>2019-4</td>\n",
       "      <td>Australia</td>\n",
       "      <td>If you've ever been to Disneyland anywhere you...</td>\n",
       "      <td>Disneyland_HongKong</td>\n",
       "      <td>{'neg': 0.0, 'neu': 0.891, 'pos': 0.109, 'comp...</td>\n",
       "      <td>0.7069</td>\n",
       "      <td>POSITIVE</td>\n",
       "    </tr>\n",
       "    <tr>\n",
       "      <th>1</th>\n",
       "      <td>670682799</td>\n",
       "      <td>4</td>\n",
       "      <td>2019-5</td>\n",
       "      <td>Philippines</td>\n",
       "      <td>Its been a while since d last time we visit HK...</td>\n",
       "      <td>Disneyland_HongKong</td>\n",
       "      <td>{'neg': 0.044, 'neu': 0.76, 'pos': 0.195, 'com...</td>\n",
       "      <td>0.9853</td>\n",
       "      <td>POSITIVE</td>\n",
       "    </tr>\n",
       "    <tr>\n",
       "      <th>2</th>\n",
       "      <td>670623270</td>\n",
       "      <td>4</td>\n",
       "      <td>2019-4</td>\n",
       "      <td>United Arab Emirates</td>\n",
       "      <td>Thanks God it wasn   t too hot or too humid wh...</td>\n",
       "      <td>Disneyland_HongKong</td>\n",
       "      <td>{'neg': 0.022, 'neu': 0.758, 'pos': 0.22, 'com...</td>\n",
       "      <td>0.9920</td>\n",
       "      <td>POSITIVE</td>\n",
       "    </tr>\n",
       "    <tr>\n",
       "      <th>3</th>\n",
       "      <td>670607911</td>\n",
       "      <td>4</td>\n",
       "      <td>2019-4</td>\n",
       "      <td>Australia</td>\n",
       "      <td>HK Disneyland is a great compact park. Unfortu...</td>\n",
       "      <td>Disneyland_HongKong</td>\n",
       "      <td>{'neg': 0.078, 'neu': 0.768, 'pos': 0.154, 'co...</td>\n",
       "      <td>0.8425</td>\n",
       "      <td>POSITIVE</td>\n",
       "    </tr>\n",
       "    <tr>\n",
       "      <th>4</th>\n",
       "      <td>670607296</td>\n",
       "      <td>4</td>\n",
       "      <td>2019-4</td>\n",
       "      <td>United Kingdom</td>\n",
       "      <td>the location is not in the city, took around 1...</td>\n",
       "      <td>Disneyland_HongKong</td>\n",
       "      <td>{'neg': 0.0, 'neu': 0.902, 'pos': 0.098, 'comp...</td>\n",
       "      <td>0.2846</td>\n",
       "      <td>POSITIVE</td>\n",
       "    </tr>\n",
       "  </tbody>\n",
       "</table>\n",
       "</div>"
      ],
      "text/plain": [
       "   Review_ID  Rating Year_Month     Reviewer_Location  \\\n",
       "0  670772142       4     2019-4             Australia   \n",
       "1  670682799       4     2019-5           Philippines   \n",
       "2  670623270       4     2019-4  United Arab Emirates   \n",
       "3  670607911       4     2019-4             Australia   \n",
       "4  670607296       4     2019-4        United Kingdom   \n",
       "\n",
       "                                         Review_Text               Branch  \\\n",
       "0  If you've ever been to Disneyland anywhere you...  Disneyland_HongKong   \n",
       "1  Its been a while since d last time we visit HK...  Disneyland_HongKong   \n",
       "2  Thanks God it wasn   t too hot or too humid wh...  Disneyland_HongKong   \n",
       "3  HK Disneyland is a great compact park. Unfortu...  Disneyland_HongKong   \n",
       "4  the location is not in the city, took around 1...  Disneyland_HongKong   \n",
       "\n",
       "                                            vs_score  compound  \\\n",
       "0  {'neg': 0.0, 'neu': 0.891, 'pos': 0.109, 'comp...    0.7069   \n",
       "1  {'neg': 0.044, 'neu': 0.76, 'pos': 0.195, 'com...    0.9853   \n",
       "2  {'neg': 0.022, 'neu': 0.758, 'pos': 0.22, 'com...    0.9920   \n",
       "3  {'neg': 0.078, 'neu': 0.768, 'pos': 0.154, 'co...    0.8425   \n",
       "4  {'neg': 0.0, 'neu': 0.902, 'pos': 0.098, 'comp...    0.2846   \n",
       "\n",
       "  vs_sentiment_type  \n",
       "0          POSITIVE  \n",
       "1          POSITIVE  \n",
       "2          POSITIVE  \n",
       "3          POSITIVE  \n",
       "4          POSITIVE  "
      ]
     },
     "execution_count": 78,
     "metadata": {},
     "output_type": "execute_result"
    }
   ],
   "source": [
    "df.head()"
   ]
  },
  {
   "cell_type": "code",
   "execution_count": 6,
   "metadata": {
    "scrolled": true
   },
   "outputs": [
    {
     "data": {
      "text/html": [
       "<style  type=\"text/css\" >\n",
       "#T_cbada_row0_col1{\n",
       "            background-color:  #ff0000;\n",
       "            color:  #f1f1f1;\n",
       "        }#T_cbada_row1_col1,#T_cbada_row2_col1{\n",
       "            background-color:  #ff5500;\n",
       "            color:  #000000;\n",
       "        }#T_cbada_row3_col1{\n",
       "            background-color:  #ff8e00;\n",
       "            color:  #000000;\n",
       "        }#T_cbada_row4_col1,#T_cbada_row5_col1,#T_cbada_row6_col1,#T_cbada_row7_col1,#T_cbada_row8_col1,#T_cbada_row9_col1{\n",
       "            background-color:  #ffff00;\n",
       "            color:  #000000;\n",
       "        }</style><table id=\"T_cbada_\" ><thead>    <tr>        <th class=\"blank level0\" ></th>        <th class=\"col_heading level0 col0\" >Reviewer_Location</th>        <th class=\"col_heading level0 col1\" >Rating</th>    </tr></thead><tbody>\n",
       "                <tr>\n",
       "                        <th id=\"T_cbada_level0_row0\" class=\"row_heading level0 row0\" >147</th>\n",
       "                        <td id=\"T_cbada_row0_col0\" class=\"data row0 col0\" >Turks and Caicos Islands</td>\n",
       "                        <td id=\"T_cbada_row0_col1\" class=\"data row0 col1\" >1.500000</td>\n",
       "            </tr>\n",
       "            <tr>\n",
       "                        <th id=\"T_cbada_level0_row1\" class=\"row_heading level0 row1\" >136</th>\n",
       "                        <td id=\"T_cbada_row1_col0\" class=\"data row1 col0\" >Suriname</td>\n",
       "                        <td id=\"T_cbada_row1_col1\" class=\"data row1 col1\" >2.000000</td>\n",
       "            </tr>\n",
       "            <tr>\n",
       "                        <th id=\"T_cbada_level0_row2\" class=\"row_heading level0 row2\" >132</th>\n",
       "                        <td id=\"T_cbada_row2_col0\" class=\"data row2 col0\" >South Sudan</td>\n",
       "                        <td id=\"T_cbada_row2_col1\" class=\"data row2 col1\" >2.000000</td>\n",
       "            </tr>\n",
       "            <tr>\n",
       "                        <th id=\"T_cbada_level0_row3\" class=\"row_heading level0 row3\" >39</th>\n",
       "                        <td id=\"T_cbada_row3_col0\" class=\"data row3 col0\" >Ecuador</td>\n",
       "                        <td id=\"T_cbada_row3_col1\" class=\"data row3 col1\" >2.333333</td>\n",
       "            </tr>\n",
       "            <tr>\n",
       "                        <th id=\"T_cbada_level0_row4\" class=\"row_heading level0 row4\" >58</th>\n",
       "                        <td id=\"T_cbada_row4_col0\" class=\"data row4 col0\" >Haiti</td>\n",
       "                        <td id=\"T_cbada_row4_col1\" class=\"data row4 col1\" >3.000000</td>\n",
       "            </tr>\n",
       "            <tr>\n",
       "                        <th id=\"T_cbada_level0_row5\" class=\"row_heading level0 row5\" >36</th>\n",
       "                        <td id=\"T_cbada_row5_col0\" class=\"data row5 col0\" >Democratic Republic of the Congo</td>\n",
       "                        <td id=\"T_cbada_row5_col1\" class=\"data row5 col1\" >3.000000</td>\n",
       "            </tr>\n",
       "            <tr>\n",
       "                        <th id=\"T_cbada_level0_row6\" class=\"row_heading level0 row6\" >128</th>\n",
       "                        <td id=\"T_cbada_row6_col0\" class=\"data row6 col0\" >Slovenia</td>\n",
       "                        <td id=\"T_cbada_row6_col1\" class=\"data row6 col1\" >3.000000</td>\n",
       "            </tr>\n",
       "            <tr>\n",
       "                        <th id=\"T_cbada_level0_row7\" class=\"row_heading level0 row7\" >107</th>\n",
       "                        <td id=\"T_cbada_row7_col0\" class=\"data row7 col0\" >Northern Mariana Islands</td>\n",
       "                        <td id=\"T_cbada_row7_col1\" class=\"data row7 col1\" >3.000000</td>\n",
       "            </tr>\n",
       "            <tr>\n",
       "                        <th id=\"T_cbada_level0_row8\" class=\"row_heading level0 row8\" >129</th>\n",
       "                        <td id=\"T_cbada_row8_col0\" class=\"data row8 col0\" >Solomon Islands</td>\n",
       "                        <td id=\"T_cbada_row8_col1\" class=\"data row8 col1\" >3.000000</td>\n",
       "            </tr>\n",
       "            <tr>\n",
       "                        <th id=\"T_cbada_level0_row9\" class=\"row_heading level0 row9\" >41</th>\n",
       "                        <td id=\"T_cbada_row9_col0\" class=\"data row9 col0\" >El Salvador</td>\n",
       "                        <td id=\"T_cbada_row9_col1\" class=\"data row9 col1\" >3.000000</td>\n",
       "            </tr>\n",
       "    </tbody></table>"
      ],
      "text/plain": [
       "<pandas.io.formats.style.Styler at 0x7fadda366df0>"
      ]
     },
     "execution_count": 6,
     "metadata": {},
     "output_type": "execute_result"
    }
   ],
   "source": [
    "df2 = df.groupby(['Reviewer_Location'],as_index=False).agg({'Rating':'mean'}).sort_values(by='Rating', ascending=True).head(10)\n",
    "df2.style.background_gradient(cmap=\"autumn\", subset=['Rating'])"
   ]
  },
  {
   "cell_type": "code",
   "execution_count": 50,
   "metadata": {},
   "outputs": [],
   "source": [
    "# new data frame with split value columns \n",
    "new = df[\"Year_Month\"].str.split(\"-\", n = 1, expand = True) \n",
    "  \n",
    "# making separate year column from new data frame \n",
    "df[\"year\"]= new[0] \n",
    "  \n",
    "# making separate mounth column from new data frame \n",
    "df[\"month\"]= new[1] "
   ]
  },
  {
   "cell_type": "code",
   "execution_count": 53,
   "metadata": {},
   "outputs": [
    {
     "data": {
      "image/png": "[encoded data removed]",
      "text/plain": [
       "<Figure size 1008x504 with 1 Axes>"
      ]
     },
     "metadata": {},
     "output_type": "display_data"
    }
   ],
   "source": [
    "# Ratings in every year\n",
    "one = df.loc[df['Rating']==1]\n",
    "one=one.groupby('year',as_index=False).agg({'Rating':'sum'})\n",
    "#== \n",
    "two = df.loc[df['Rating']==2]\n",
    "two=two.groupby('year',as_index=False).agg({'Rating':'sum'})\n",
    "\n",
    "#== \n",
    "three = df.loc[df['Rating']==3]\n",
    "three=three.groupby('year',as_index=False).agg({'Rating':'sum'})\n",
    "#=== \n",
    "four = df.loc[df['Rating']==4]\n",
    "four=four.groupby('year',as_index=False).agg({'Rating':'sum'})\n",
    "#===\n",
    "fifth = df.loc[df['Rating']==5]\n",
    "fifth=fifth.groupby('year',as_index=False).agg({'Rating':'sum'})\n",
    "#============== \n",
    "sns.set_style(\"darkgrid\")\n",
    "plt.figure(figsize=(14,7))\n",
    "plt.plot(one['year'] ,one['Rating'],marker='o',label='1') \n",
    "plt.plot(two['year'] , two['Rating'],color='blue',marker='*',label='2')  \n",
    "plt.plot(three['year'] ,three['Rating'],color='green',marker='+',label='3') \n",
    "plt.plot(four['year'] ,four['Rating'],color='yellow',marker='+',label='4') \n",
    "plt.plot(fifth['year'] ,fifth['Rating'],color='gold',marker='+',label='5') \n",
    "plt.legend();\n",
    "plt.savefig(\"rating_year.jpg\", bbox_inches='tight', dpi = 300)"
   ]
  },
  {
   "cell_type": "code",
   "execution_count": 54,
   "metadata": {
    "scrolled": false
   },
   "outputs": [
    {
     "data": {
      "image/png": "[encoded data removed]",
      "text/plain": [
       "<Figure size 720x432 with 1 Axes>"
      ]
     },
     "metadata": {},
     "output_type": "display_data"
    }
   ],
   "source": [
    "# Sentiment type by branch\n",
    "plt.figure(figsize=(10,6))\n",
    "sns.countplot(data=df,x='Branch',hue='vs_sentiment_type',palette='inferno');\n",
    "plt.savefig(\"output\\sentiment_branch.jpg\", bbox_inches='tight', dpi = 300)"
   ]
  },
  {
   "cell_type": "code",
   "execution_count": 49,
   "metadata": {},
   "outputs": [],
   "source": [
    "import en_core_web_sm"
   ]
  },
  {
   "cell_type": "code",
   "execution_count": 79,
   "metadata": {
    "scrolled": false
   },
   "outputs": [],
   "source": [
    "df_dislike=df.loc[df['vs_sentiment_type']=='NEGATIVE']\n",
    "review = df_dislike['Review_Text'].drop_duplicates()\n",
    "all_sentences = []\n",
    "\n",
    "for word in review:\n",
    "    all_sentences.append(word)\n",
    "\n",
    "lines = list()\n",
    "for line in all_sentences:    \n",
    "    words = line.split()\n",
    "    for w in words: \n",
    "       lines.append(w)\n",
    "#== \n",
    "import re\n",
    "\n",
    "lines = [re.sub(r'[^A-Za-z0-9]+', '', x) for x in lines]\n",
    "\n",
    "lines2 = []\n",
    "\n",
    "for word in lines:\n",
    "    if word != '':\n",
    "        lines2.append(word)\n",
    "#== \n",
    "from nltk.stem.snowball import SnowballStemmer\n",
    "s_stemmer = SnowballStemmer(language='english')\n",
    "\n",
    "stem = []\n",
    "for word in lines2:\n",
    "    stem.append(s_stemmer.stem(word))\n",
    "#== \n",
    "import spacy\n",
    "nlp = spacy.load('en_core_web_lg')\n",
    "stem2 = []\n",
    "\n",
    "for word in stem:\n",
    "    if word not in nlp.Defaults.stop_words:\n",
    "        stem2.append(word)\n",
    "#== \n",
    "df2 = pd.DataFrame(stem2)\n",
    "df2 = df2[0].value_counts()\n",
    "#== \n",
    "df2 = df2[:20,]\n",
    "#== \n",
    "from spacy import displacy\n",
    "from collections import Counter\n",
    "import en_core_web_sm\n",
    "nlp = en_core_web_sm.load()\n",
    "#====== \n",
    "def show_ents(doc):\n",
    "    if doc.ents:\n",
    "        for ent in doc.ents:\n",
    "            print(ent.text + ' - ' + ent.label_ + ' - ' + str(spacy.explain(ent.label_)))\n",
    "#======\n",
    "nlp = spacy.load('en_core_web_sm') \n",
    "nlp.max_length = 2000000000000\n",
    "#=====\n",
    "str1 = \" \" \n",
    "stem2 = str1.join(lines2)\n",
    "\n",
    "stem2 = nlp(stem2)\n",
    "\n",
    "label = [(X.text, X.label_) for X in stem2.ents]\n",
    "\n",
    "df6 = pd.DataFrame(label, columns = ['Word','Entity'])"
   ]
  },
  {
   "cell_type": "code",
   "execution_count": 80,
   "metadata": {},
   "outputs": [
    {
     "data": {
      "image/png": "[encoded data removed]",
      "text/plain": [
       "<Figure size 1008x360 with 1 Axes>"
      ]
     },
     "metadata": {},
     "output_type": "display_data"
    }
   ],
   "source": [
    "TIME = df6.query(\"Entity == 'TIME'\")\n",
    "TIME =TIME['Word'].value_counts()\n",
    "TIME = TIME[:10]\n",
    "sns.set_style(\"darkgrid\")\n",
    "plt.figure(figsize=(14,5));\n",
    "TIME = sns.barplot(x=TIME.index,y= TIME.values, alpha=0.8,palette=\"coolwarm\");\n",
    "plt.title('Time Words in negative reviews',fontsize=15);\n",
    "plt.show();"
   ]
  },
  {
   "cell_type": "code",
   "execution_count": 81,
   "metadata": {},
   "outputs": [
    {
     "data": {
      "image/png": "[encoded data removed]",
      "text/plain": [
       "<Figure size 1008x360 with 1 Axes>"
      ]
     },
     "metadata": {},
     "output_type": "display_data"
    }
   ],
   "source": [
    "PERSON = df6.query(\"Entity == 'PERSON'\")\n",
    "PERSON =PERSON['Word'].value_counts()\n",
    "PERSON = PERSON[:10]\n",
    "sns.set_style(\"darkgrid\")\n",
    "plt.figure(figsize=(14,5));\n",
    "PERSON = sns.barplot(x=PERSON.index,y= PERSON.values, alpha=0.8,palette=\"summer\");\n",
    "plt.title('People name Words in negative reviews',fontsize=15);\n",
    "plt.show();"
   ]
  },
  {
   "cell_type": "code",
   "execution_count": 82,
   "metadata": {},
   "outputs": [
    {
     "data": {
      "image/png": "[encoded data removed]",
      "text/plain": [
       "<Figure size 1008x360 with 1 Axes>"
      ]
     },
     "metadata": {},
     "output_type": "display_data"
    }
   ],
   "source": [
    "ORDINAL = df6.query(\"Entity == 'ORDINAL'\")        \n",
    "ORDINAL =ORDINAL['Word'].value_counts()\n",
    "ORDINAL = ORDINAL[:10]\n",
    "sns.set_style(\"white\")\n",
    "plt.figure(figsize=(14,5));\n",
    "PERSON = sns.barplot(x=ORDINAL.index,y= ORDINAL.values, alpha=0.8,palette=\"terrain\");\n",
    "plt.title('Ordinal Words in negative reviews',fontsize=15);\n",
    "plt.show();"
   ]
  },
  {
   "cell_type": "code",
   "execution_count": 83,
   "metadata": {
    "scrolled": true
   },
   "outputs": [
    {
     "data": {
      "image/png": "[encoded data removed]",
      "text/plain": [
       "<Figure size 1008x360 with 1 Axes>"
      ]
     },
     "metadata": {},
     "output_type": "display_data"
    }
   ],
   "source": [
    "ORG = df6.query(\"Entity == 'ORG'\")        \n",
    "ORG =ORG['Word'].value_counts()\n",
    "ORG = ORG[:10]\n",
    "sns.set_style(\"darkgrid\")\n",
    "plt.figure(figsize=(14,5));\n",
    "ORG = sns.barplot(x=ORG.index,y= ORG.values, alpha=0.8,palette=\"spring\");\n",
    "plt.title('Organizations  Words in negative reviews',fontsize=15);\n",
    "plt.show();"
   ]
  },
  {
   "cell_type": "code",
   "execution_count": 85,
   "metadata": {
    "scrolled": true
   },
   "outputs": [
    {
     "data": {
      "image/png": "[encoded data removed]",
      "text/plain": [
       "<Figure size 1008x360 with 1 Axes>"
      ]
     },
     "metadata": {},
     "output_type": "display_data"
    }
   ],
   "source": [
    "LOC = df6.query(\"Entity == 'LOC'\")        \n",
    "LOC =LOC['Word'].value_counts()\n",
    "LOC = LOC[:10]\n",
    "sns.set_style(\"darkgrid\")\n",
    "plt.figure(figsize=(14,5));\n",
    "NORP = sns.barplot(x=LOC.index,y= LOC.values, alpha=1,palette=\"flag\");\n",
    "plt.title('location Words in negative reviews',fontsize=15);\n",
    "plt.show();"
   ]
  },
  {
   "cell_type": "code",
   "execution_count": 88,
   "metadata": {},
   "outputs": [
    {
     "name": "stdout",
     "output_type": "stream",
     "text": [
      "['We arrived here early and had an early breakfast before riding Pirates of caribbean , Indy Jones, Haunted Mansion and pin shopping.  Great park for kids and families.  Very tired by end of day.  Thumbs up!']\n",
      "\n",
      "\n",
      "['We share the views of many people writing here. Disneyland Paris was an absolute shambles when we visited on 20th August. Rides continuously closed. We had five rides close while we were in the queue and with too excited young children it was very upsetting. Two of them (pirates of the caribbean and thunder mountain) we had already waited for over an hour. We were at the park for over 12 hours and went on a total of 5 rides having spent the whole day in lines. The only time we were not in a queue for a ride, we were in a queue for (overpriced, poor quality) food. Disney dreams shattered for all...']\n",
      "\n",
      "\n",
      "[\"I have just returned from a two day visit to disneyland paris and all I can say is what a disappointment. Firstly, you could be in any theme park in Europe and it is only occasionally that you are reminded that this is Disneyland Pairs. There were no characters walking around the park and it does not have that magical Disney feel. The staff were unhelpful, unfriendly and uninterested. There was no interaction with the children and it seems they were just there for the money. They were quiet often rude or would just choose to ignore you.We were also disappointed with the number of rides shows that were either not working or cancelled. To name a few, indian jones ride closed, Pirates of the caribbean ride closed, thunder mountain closed, Rock'n'roller Coaster closed, car parade was cancelled as was the stun show.Also, to buy anything in the park was expensive, a bottle of water was 3.09 euro so i would advise taking your own food and water. I will not be visiting Disneyland Paris again and will advise family and friend to avoid or go to florida!\"]\n"
     ]
    }
   ],
   "source": [
    "df_copy = df\n",
    "df_copy['check']=df_copy['Review_Text'].apply(lambda word:word.count('caribbean'))\n",
    "df_don=df_copy.loc[df_copy['check']>0]\n",
    "df_don=df_don.loc[df_don['vs_sentiment_type']=='NEGATIVE']\n",
    "print(df_don['Review_Text'].values[1:2])\n",
    "print('\\n')\n",
    "print(df_don['Review_Text'].values[5:6])\n",
    "print('\\n')\n",
    "print(df_don['Review_Text'].values[6:7])\n",
    "# Pirates of caribbean and Space Mountain are the most popular rides! (but the waiting time is too long!)"
   ]
  },
  {
   "cell_type": "code",
   "execution_count": 84,
   "metadata": {
    "scrolled": false
   },
   "outputs": [
    {
     "data": {
      "image/png": "[encoded data removed]",
      "text/plain": [
       "<Figure size 1728x360 with 1 Axes>"
      ]
     },
     "metadata": {},
     "output_type": "display_data"
    }
   ],
   "source": [
    "PRODUCT = df6.query(\"Entity == 'MONEY'\")        \n",
    "PRODUCT =PRODUCT['Word'].value_counts()\n",
    "PRODUCT = PRODUCT[:10]\n",
    "sns.set_style(\"white\")\n",
    "plt.figure(figsize=(24,5));\n",
    "NORP = sns.barplot(x=PRODUCT.index,y= PRODUCT.values, alpha=1,palette=\"ocean\");\n",
    "plt.title('Money Words in negative reviews',fontsize=15);\n",
    "plt.show();"
   ]
  }
 ],
 "metadata": {
  "kernelspec": {
   "display_name": "Python 3",
   "language": "python",
   "name": "python3"
  },
  "language_info": {
   "codemirror_mode": {
    "name": "ipython",
    "version": 3
   },
   "file_extension": ".py",
   "mimetype": "text/x-python",
   "name": "python",
   "nbconvert_exporter": "python",
   "pygments_lexer": "ipython3",
   "version": "3.8.8"
  }
 },
 "nbformat": 4,
 "nbformat_minor": 4
}
